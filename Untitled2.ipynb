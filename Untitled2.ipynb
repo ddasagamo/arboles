{
  "nbformat": 4,
  "nbformat_minor": 0,
  "metadata": {
    "colab": {
      "provenance": [],
      "authorship_tag": "ABX9TyPThAuiMhd0iBUGZDiDh5ck",
      "include_colab_link": true
    },
    "kernelspec": {
      "name": "python3",
      "display_name": "Python 3"
    },
    "language_info": {
      "name": "python"
    }
  },
  "cells": [
    {
      "cell_type": "markdown",
      "metadata": {
        "id": "view-in-github",
        "colab_type": "text"
      },
      "source": [
        "<a href=\"https://colab.research.google.com/github/ddasagamo/arboles/blob/main/Untitled2.ipynb\" target=\"_parent\"><img src=\"https://colab.research.google.com/assets/colab-badge.svg\" alt=\"Open In Colab\"/></a>"
      ]
    },
    {
      "cell_type": "code",
      "source": [
        "!apt install graphviz libgraphviz-dev\n",
        "!pip install pygraphviz\n",
        "\n",
        "import networkx as nx\n",
        "import matplotlib.pyplot as plt\n",
        "\n",
        "class Node:\n",
        "    def __init__(self, value):\n",
        "        self.value = value\n",
        "        self.left = None\n",
        "        self.right = None\n",
        "\n",
        "class BinarySearchTree:\n",
        "    def __init__(self):\n",
        "        self.root = None\n",
        "\n",
        "    def insert(self, value):\n",
        "        if self.root is None:\n",
        "            self.root = Node(value)\n",
        "        else:\n",
        "            self._insert_recursively(self.root, value)\n",
        "\n",
        "    def _insert_recursively(self, node, value):\n",
        "        if value < node.value:\n",
        "            if node.left is None:\n",
        "                node.left = Node(value)\n",
        "            else:\n",
        "                self._insert_recursively(node.left, value)\n",
        "        else:\n",
        "            if node.right is None:\n",
        "                node.right = Node(value)\n",
        "            else:\n",
        "                self._insert_recursively(node.right, value)\n",
        "\n",
        "    def in_order(self, node, result=None):\n",
        "        if result is None:\n",
        "            result = []\n",
        "        if node:\n",
        "            self.in_order(node.left, result)\n",
        "            result.append(node.value)\n",
        "            self.in_order(node.right, result)\n",
        "        return result\n",
        "\n",
        "    def pre_order(self, node, result=None):\n",
        "        if result is None:\n",
        "            result = []\n",
        "        if node:\n",
        "            result.append(node.value)\n",
        "            self.pre_order(node.left, result)\n",
        "            self.pre_order(node.right, result)\n",
        "        return result\n",
        "\n",
        "    def post_order(self, node, result=None):\n",
        "        if result is None:\n",
        "            result = []\n",
        "        if node:\n",
        "            self.post_order(node.left, result)\n",
        "            self.post_order(node.right, result)\n",
        "            result.append(node.value)\n",
        "        return result\n",
        "\n",
        "def plot_bst(tree):\n",
        "    G = nx.DiGraph()\n",
        "\n",
        "    def add_edges(graph, node):\n",
        "        if node:\n",
        "            if node.left:\n",
        "                graph.add_edge(node.value, node.left.value)\n",
        "                add_edges(graph, node.left)\n",
        "            if node.right:\n",
        "                graph.add_edge(node.value, node.right.value)\n",
        "                add_edges(graph, node.right)\n",
        "\n",
        "    add_edges(G, tree.root)\n",
        "\n",
        "    pos = nx.drawing.nx_agraph.graphviz_layout(G, prog=\"dot\")\n",
        "    nx.draw(G, pos, with_labels=True, node_size=1500, node_color='lightblue',\n",
        "            font_size=10, font_weight='bold', arrows=True)\n",
        "    plt.title(\"Árbol Binario de Búsqueda\")\n",
        "    plt.show()\n",
        "\n",
        "# Construct the binary search tree\n",
        "values = [15, 6, 3, 9, 18, 20, 17]\n",
        "bst = BinarySearchTree()\n",
        "for value in values:\n",
        "    bst.insert(value)\n",
        "\n",
        "# Display traversals\n",
        "print(\"Recorrido Inorden:\", bst.in_order(bst.root))\n",
        "print(\"Recorrido Preorden:\", bst.pre_order(bst.root))\n",
        "print(\"Recorrido Postorden:\", bst.post_order(bst.root))\n",
        "\n",
        "# Plot the tree\n",
        "plot_bst(bst)"
      ],
      "metadata": {
        "colab": {
          "base_uri": "https://localhost:8080/",
          "height": 715
        },
        "id": "ogzZPVTQ2efW",
        "outputId": "1ba41c02-22ff-4324-ffd2-ae35ef828fd8"
      },
      "execution_count": 5,
      "outputs": [
        {
          "output_type": "stream",
          "name": "stdout",
          "text": [
            "Reading package lists... Done\n",
            "Building dependency tree... Done\n",
            "Reading state information... Done\n",
            "graphviz is already the newest version (2.42.2-6ubuntu0.1).\n",
            "libgraphviz-dev is already the newest version (2.42.2-6ubuntu0.1).\n",
            "0 upgraded, 0 newly installed, 0 to remove and 49 not upgraded.\n",
            "Requirement already satisfied: pygraphviz in /usr/local/lib/python3.10/dist-packages (1.14)\n",
            "Recorrido Inorden: [3, 6, 9, 15, 17, 18, 20]\n",
            "Recorrido Preorden: [15, 6, 3, 9, 18, 17, 20]\n",
            "Recorrido Postorden: [3, 9, 6, 17, 20, 18, 15]\n"
          ]
        },
        {
          "output_type": "display_data",
          "data": {
            "text/plain": [
              "<Figure size 640x480 with 1 Axes>"
            ],
            "image/png": "[encoded data removed]"
          },
          "metadata": {}
        }
      ]
    },
    {
      "cell_type": "code",
      "source": [
        "class Nodo:\n",
        "    def __init__(self, valor):\n",
        "        self.valor = valor\n",
        "        self.izquierda = None\n",
        "        self.derecha = None\n",
        "\n",
        "def insertar(raiz, valor):\n",
        "    if raiz is None:\n",
        "        return Nodo(valor)\n",
        "    else:\n",
        "        if valor < raiz.valor:\n",
        "            raiz.izquierda = insertar(raiz.izquierda, valor)\n",
        "        else:\n",
        "            raiz.derecha = insertar(raiz.derecha, valor)\n",
        "    return raiz\n",
        "\n",
        "def inorden(raiz, recorrido):\n",
        "    if raiz:\n",
        "        inorden(raiz.izquierda, recorrido)\n",
        "        recorrido.append(raiz.valor)\n",
        "        inorden(raiz.derecha, recorrido)\n",
        "\n",
        "def preorden(raiz, recorrido):\n",
        "    if raiz:\n",
        "        recorrido.append(raiz.valor)\n",
        "        preorden(raiz.izquierda, recorrido)\n",
        "        preorden(raiz.derecha, recorrido)\n",
        "\n",
        "def postorden(raiz, recorrido):\n",
        "    if raiz:\n",
        "        postorden(raiz.izquierda, recorrido)\n",
        "        postorden(raiz.derecha, recorrido)\n",
        "        recorrido.append(raiz.valor)\n",
        "\n",
        "# Valores para el árbol\n",
        "valores = [10, 5, 15, 2, 7, 12, 18]\n",
        "\n",
        "# Crear el árbol\n",
        "raiz = None\n",
        "for valor in valores:\n",
        "    raiz = insertar(raiz, valor)\n",
        "\n",
        "# Generar los recorridos\n",
        "recorrido_inorden = []\n",
        "recorrido_preorden = []\n",
        "recorrido_postorden = []\n",
        "\n",
        "inorden(raiz, recorrido_inorden)\n",
        "preorden(raiz, recorrido_preorden)\n",
        "postorden(raiz, recorrido_postorden)\n",
        "\n",
        "# Imprimir los recorridos\n",
        "print(\"Recorrido Inorden:\", recorrido_inorden)\n",
        "print(\"Recorrido Preorden:\", recorrido_preorden)\n",
        "print(\"Recorrido Postorden:\", recorrido_postorden)\n"
      ],
      "metadata": {
        "colab": {
          "base_uri": "https://localhost:8080/"
        },
        "id": "qefPXu-B4vWy",
        "outputId": "05fc7b18-c193-4b68-8f31-23d0c56290b1"
      },
      "execution_count": 12,
      "outputs": [
        {
          "output_type": "stream",
          "name": "stdout",
          "text": [
            "Recorrido Inorden: [2, 5, 7, 10, 12, 15, 18]\n",
            "Recorrido Preorden: [10, 5, 2, 7, 15, 12, 18]\n",
            "Recorrido Postorden: [2, 7, 5, 12, 18, 15, 10]\n"
          ]
        }
      ]
    },
    {
      "cell_type": "code",
      "source": [
        "!apt install graphviz libgraphviz-dev\n",
        "!pip install pygraphviz\n",
        "\n",
        "import networkx as nx\n",
        "import matplotlib.pyplot as plt\n",
        "\n",
        "class Node:\n",
        "    def __init__(self, value):\n",
        "        self.value = value\n",
        "        self.left = None\n",
        "        self.right = None\n",
        "\n",
        "def build_tree_from_traversals(preorder, inorder):\n",
        "    if not preorder or not inorder:\n",
        "        return None\n",
        "\n",
        "    root_value = preorder[0]\n",
        "    root = Node(root_value)\n",
        "    root_index_inorder = inorder.index(root_value)\n",
        "\n",
        "    root.left = build_tree_from_traversals(\n",
        "        preorder[1 : root_index_inorder + 1], inorder[:root_index_inorder]\n",
        "    )\n",
        "    root.right = build_tree_from_traversals(\n",
        "        preorder[root_index_inorder + 1 :], inorder[root_index_inorder + 1 :]\n",
        "    )\n",
        "\n",
        "    return root\n",
        "\n",
        "def plot_bst(tree):\n",
        "    G = nx.DiGraph()\n",
        "\n",
        "    def add_edges(graph, node):\n",
        "        if node:\n",
        "            if node.left:\n",
        "                graph.add_edge(node.value, node.left.value)\n",
        "                add_edges(graph, node.left)\n",
        "            if node.right:\n",
        "                graph.add_edge(node.value, node.right.value)\n",
        "                add_edges(graph, node.right)\n",
        "\n",
        "    add_edges(G, tree)\n",
        "\n",
        "    pos = nx.drawing.nx_agraph.graphviz_layout(G, prog=\"dot\")\n",
        "    nx.draw(G, pos, with_labels=True, node_size=1500, node_color='lightblue',\n",
        "            font_size=10, font_weight='bold', arrows=True)\n",
        "    plt.title(\"Reconstructed Binary Search Tree\")\n",
        "    plt.show()\n",
        "\n",
        "# Example usage:\n",
        "preorder = [8, 3, 1, 6, 4, 7, 10, 14, 13]\n",
        "inorder = [1, 3, 4, 6, 7, 8, 10, 13, 14]\n",
        "\n",
        "reconstructed_tree = build_tree_from_traversals(preorder, inorder)\n",
        "\n",
        "# Visualize the tree\n",
        "plot_bst(reconstructed_tree)"
      ],
      "metadata": {
        "colab": {
          "base_uri": "https://localhost:8080/",
          "height": 661
        },
        "id": "XiDRu3FH8OO4",
        "outputId": "94614411-67b2-401e-eba3-8f7563fcf81e"
      },
      "execution_count": 10,
      "outputs": [
        {
          "output_type": "stream",
          "name": "stdout",
          "text": [
            "Reading package lists... Done\n",
            "Building dependency tree... Done\n",
            "Reading state information... Done\n",
            "graphviz is already the newest version (2.42.2-6ubuntu0.1).\n",
            "libgraphviz-dev is already the newest version (2.42.2-6ubuntu0.1).\n",
            "0 upgraded, 0 newly installed, 0 to remove and 49 not upgraded.\n",
            "Requirement already satisfied: pygraphviz in /usr/local/lib/python3.10/dist-packages (1.14)\n"
          ]
        },
        {
          "output_type": "display_data",
          "data": {
            "text/plain": [
              "<Figure size 640x480 with 1 Axes>"
            ],
            "image/png": "[encoded data removed]"
          },
          "metadata": {}
        }
      ]
    }
  ]
}